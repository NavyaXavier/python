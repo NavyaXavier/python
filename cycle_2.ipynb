{
  "nbformat": 4,
  "nbformat_minor": 0,
  "metadata": {
    "colab": {
      "name": "cycle-2.ipynb",
      "provenance": [],
      "collapsed_sections": []
    },
    "kernelspec": {
      "name": "python3",
      "display_name": "Python 3"
    }
  },
  "cells": [
    {
      "cell_type": "code",
      "metadata": {
        "colab": {
          "base_uri": "https://localhost:8080/"
        },
        "id": "j5OqAsLW9miT",
        "outputId": "1a4d7655-335f-42d8-dccf-4873c841ade3"
      },
      "source": [
        "s=int(input(\"enter starting year\"))\r\n",
        "e=int(input(\"enter ending year\"))\r\n",
        "print(\"leap years between\" ,s, \"and\" ,e)\r\n",
        "while (s<=e):\r\n",
        "  if ((s%400==0) or ((s%4==0) and (s%100!=0))):\r\n",
        "    print(s)\r\n",
        "  s=s+1"
      ],
      "execution_count": null,
      "outputs": [
        {
          "output_type": "stream",
          "text": [
            "enter starting year2000\n",
            "enter ending year2021\n",
            "leap years between 2000 and 2021\n",
            "2000\n",
            "2004\n",
            "2008\n",
            "2012\n",
            "2016\n",
            "2020\n"
          ],
          "name": "stdout"
        }
      ]
    },
    {
      "cell_type": "code",
      "metadata": {
        "colab": {
          "base_uri": "https://localhost:8080/"
        },
        "id": "3JTO_wOg-qgv",
        "outputId": "c0990c58-34a4-47fd-d0c7-f0217d13e973"
      },
      "source": [
        "list=[-4,21,45,30,-22,58,4,10]\r\n",
        "num=0\r\n",
        "while (num < len(list)):\r\n",
        "  if list[num] >=0 :\r\n",
        "    print (list[num] , end= \" \")\r\n",
        "  num += 1"
      ],
      "execution_count": null,
      "outputs": [
        {
          "output_type": "stream",
          "text": [
            "21 45 30 58 4 10 "
          ],
          "name": "stdout"
        }
      ]
    },
    {
      "cell_type": "code",
      "metadata": {
        "id": "rgujHKss5jLc",
        "colab": {
          "base_uri": "https://localhost:8080/"
        },
        "outputId": "64dc1fc3-6158-4963-d744-b1e8b3cd227f"
      },
      "source": [
        "x=[]\r\n",
        "n=int(input(\"enter list items : \"))\r\n",
        "for i in range(1,n+1):\r\n",
        "    a=int(input(\"enter the value of %d item : \"%i))\r\n",
        "    x.append(a)\r\n",
        "b=(num**2 for num in x)\r\n",
        "print(\"initial list of N numbers :\",x)\r\n",
        "y=list(b)\r\n",
        "print(\"square list of N numbers :\",y)"
      ],
      "execution_count": 2,
      "outputs": [
        {
          "output_type": "stream",
          "text": [
            "enter list items : 4\n",
            "enter the value of 1 item : 1\n",
            "enter the value of 2 item : 2\n",
            "enter the value of 3 item : 3\n",
            "enter the value of 4 item : 4\n",
            "initial list of N numbers : [1, 2, 3, 4]\n",
            "square list of N numbers : [1, 4, 9, 16]\n"
          ],
          "name": "stdout"
        }
      ]
    },
    {
      "cell_type": "code",
      "metadata": {
        "colab": {
          "base_uri": "https://localhost:8080/"
        },
        "id": "9p9K0NBxAWfn",
        "outputId": "7fafa077-ac53-42b7-ae75-906726b43659"
      },
      "source": [
        "word=input(\"enter a word: \")\r\n",
        "vowels=['a','e','i','o','u']\r\n",
        "list=[]\r\n",
        "for x in word:\r\n",
        "  if(x in vowels and x not in list):\r\n",
        "    list.append(x)\r\n",
        "    print(\"vowels present in the given word is: \",list)"
      ],
      "execution_count": null,
      "outputs": [
        {
          "output_type": "stream",
          "text": [
            "enter a word: beautiful\n",
            "vowels present in the given word is:  ['e']\n",
            "vowels present in the given word is:  ['e', 'a']\n",
            "vowels present in the given word is:  ['e', 'a', 'u']\n",
            "vowels present in the given word is:  ['e', 'a', 'u', 'i']\n"
          ],
          "name": "stdout"
        }
      ]
    },
    {
      "cell_type": "code",
      "metadata": {
        "colab": {
          "base_uri": "https://localhost:8080/"
        },
        "id": "nZLRrb4Ff0Cz",
        "outputId": "430b728e-d1d7-4d61-bc13-202b31496a29"
      },
      "source": [
        "w=input(\"enter any word : \")\r\n",
        "for l in range(len(w)) :\r\n",
        "  print(\"ASCII value is\",w[l],\"is\",ord(w[l]))"
      ],
      "execution_count": 1,
      "outputs": [
        {
          "output_type": "stream",
          "text": [
            "enter any word : day\n",
            "ASCII value is d is 100\n",
            "ASCII value is a is 97\n",
            "ASCII value is y is 121\n"
          ],
          "name": "stdout"
        }
      ]
    },
    {
      "cell_type": "code",
      "metadata": {
        "colab": {
          "base_uri": "https://localhost:8080/"
        },
        "id": "ma8mE1ckDFx8",
        "outputId": "bf29c5d9-c215-4920-c323-2b65c3596a84"
      },
      "source": [
        "def word_count(txt):\r\n",
        "  counts=dict()\r\n",
        "  words=txt.split()\r\n",
        "  for word in words:\r\n",
        "    if word in counts:\r\n",
        "      counts[word]+=1\r\n",
        "    else:\r\n",
        "        counts[word]=1\r\n",
        "  return counts\r\n",
        "print (word_count('the quick brown fox jumps over the lazy dog.'))"
      ],
      "execution_count": null,
      "outputs": [
        {
          "output_type": "stream",
          "text": [
            "{'the': 2, 'quick': 1, 'brown': 1, 'fox': 1, 'jumps': 1, 'over': 1, 'lazy': 1, 'dog.': 1}\n"
          ],
          "name": "stdout"
        }
      ]
    },
    {
      "cell_type": "code",
      "metadata": {
        "colab": {
          "base_uri": "https://localhost:8080/"
        },
        "id": "9Wj8V_UfpBcH",
        "outputId": "bf285e0a-23c4-48e6-a61e-e1d11c1a5914"
      },
      "source": [
        "x=[]\r\n",
        "n=int(input(\"enter any integers :\"))\r\n",
        "for i in range(1,n+1):\r\n",
        "  a=int(input())\r\n",
        "  if (a>100):\r\n",
        "    x.append('over')\r\n",
        "  else:\r\n",
        "    x.append(a)\r\n",
        "print(\"modified list :\" ,x)"
      ],
      "execution_count": 3,
      "outputs": [
        {
          "output_type": "stream",
          "text": [
            "enter any integers :4\n",
            "20\n",
            "45\n",
            "300\n",
            "34\n",
            "modified list : [20, 45, 'over', 34]\n"
          ],
          "name": "stdout"
        }
      ]
    },
    {
      "cell_type": "code",
      "metadata": {
        "colab": {
          "base_uri": "https://localhost:8080/"
        },
        "id": "qLLDsvqu9SwD",
        "outputId": "952a3ea7-7431-4d0a-9d13-5eff689af0a6"
      },
      "source": [
        "l=[]\r\n",
        "x=int(input(\"enter the limit : \"))\r\n",
        "for i in range (1,x+1):\r\n",
        "  x=input(\"enter the first name : \")\r\n",
        "  l.append(x)\r\n",
        "  count = x.count('a')\r\n",
        "  print(\"number of time a is present in name:\",count)"
      ],
      "execution_count": 4,
      "outputs": [
        {
          "output_type": "stream",
          "text": [
            "enter the limit : 3\n",
            "enter the first name : aleena\n",
            "number of time a is present in name: 2\n",
            "enter the first name : navya\n",
            "number of time a is present in name: 2\n",
            "enter the first name : abin\n",
            "number of time a is present in name: 1\n"
          ],
          "name": "stdout"
        }
      ]
    },
    {
      "cell_type": "code",
      "metadata": {
        "colab": {
          "base_uri": "https://localhost:8080/"
        },
        "id": "aCb03Harg0uC",
        "outputId": "66cdf79a-0f52-492e-9809-be961273aa5b"
      },
      "source": [
        "x=[]\r\n",
        "a=int(input(\"enter limit for list1 : \"))\r\n",
        "for i in range(1,a+1):\r\n",
        "  a=int(input())\r\n",
        "  x.append(a)\r\n",
        "print(x)\r\n",
        "y=[]\r\n",
        "b=int(input(\"enter limit for list2 : \"))\r\n",
        "for i in range(1,b+1):\r\n",
        "  b=int(input())\r\n",
        "  y.append(b)\r\n",
        "print(y)\r\n",
        "if (len(x)==len(y)):\r\n",
        "  print(\"list1 and list2 are of same length i.e.\",len(x))\r\n",
        "else:\r\n",
        "  print(\"list1 and list2 are of different length.\")\r\n",
        "if (sum(x)==sum(y)):\r\n",
        "  print(\"list1 and list2 sums to the same value i.e.\",sum(x))\r\n",
        "else:\r\n",
        "  print(\"list1 and list2 sums up to different values.\")\r\n",
        "def common(x, y): \r\n",
        "    p=set(x) \r\n",
        "    q=set(y) \r\n",
        "    if len(p.intersection(q)) > 0: \r\n",
        "        return(p.intersection(q))   \r\n",
        "    else: \r\n",
        "        return(\"no common elements\")  \r\n",
        "print(\"value that occur in both lists is/are :\",common(x,y)) "
      ],
      "execution_count": 5,
      "outputs": [
        {
          "output_type": "stream",
          "text": [
            "enter limit for list1 : 3\n",
            "9\n",
            "6\n",
            "3\n",
            "[9, 6, 3]\n",
            "enter limit for list2 : 3\n",
            "9\n",
            "7\n",
            "2\n",
            "[9, 7, 2]\n",
            "list1 and list2 are of same length i.e. 3\n",
            "list1 and list2 sums to the same value i.e. 18\n",
            "value that occur in both lists is/are : {9}\n"
          ],
          "name": "stdout"
        }
      ]
    },
    {
      "cell_type": "code",
      "metadata": {
        "colab": {
          "base_uri": "https://localhost:8080/"
        },
        "id": "ArJl2I6Od8Bg",
        "outputId": "589c0acd-2a4c-4c50-a9b2-846c6d7513ea"
      },
      "source": [
        "str=input(\"enter any string : \")\r\n",
        "def rep_ch(str1):\r\n",
        "  char=str1[0]\r\n",
        "  str1=str1.replace(char, '$')\r\n",
        "  str1=char+str1[1:]\r\n",
        "  return str1\r\n",
        "print(rep_ch(str))"
      ],
      "execution_count": 6,
      "outputs": [
        {
          "output_type": "stream",
          "text": [
            "enter any string : onion\n",
            "oni$n\n"
          ],
          "name": "stdout"
        }
      ]
    },
    {
      "cell_type": "code",
      "metadata": {
        "colab": {
          "base_uri": "https://localhost:8080/"
        },
        "id": "KKXvpFfNsk9X",
        "outputId": "3e411fcd-e37a-4a7b-9e0b-b7225ef6f94b"
      },
      "source": [
        "def change(str):\r\n",
        "      return str[-1:] + str[1:-1] + str[:1]\r\n",
        "str=input(\"enter any string : \")\r\n",
        "print(\"modified string : \",change(str))\r\n"
      ],
      "execution_count": 7,
      "outputs": [
        {
          "output_type": "stream",
          "text": [
            "enter any string : cobol\n",
            "modified string :  loboc\n"
          ],
          "name": "stdout"
        }
      ]
    },
    {
      "cell_type": "code",
      "metadata": {
        "colab": {
          "base_uri": "https://localhost:8080/"
        },
        "id": "xOaUJmNNEhUR",
        "outputId": "c7595792-5633-4d95-cfd6-cfd8f6190e75"
      },
      "source": [
        "from math import pi\r\n",
        "r=float(input(\"enter radius of circle: \"))\r\n",
        "print(\"area of the circle is: \"+str(pi *r**2))\r\n"
      ],
      "execution_count": null,
      "outputs": [
        {
          "output_type": "stream",
          "text": [
            "enter radius of circle: 6\n",
            "area of the circle is: 113.09733552923255\n"
          ],
          "name": "stdout"
        }
      ]
    },
    {
      "cell_type": "code",
      "metadata": {
        "colab": {
          "base_uri": "https://localhost:8080/"
        },
        "id": "hYniiGqpFF3U",
        "outputId": "fa8c5aee-25d3-49b0-e926-917f098a0b33"
      },
      "source": [
        "num1=int(input(\"enter first number: \"))\r\n",
        "num2=int(input(\"enter second number: \"))\r\n",
        "num3=int(input(\"enter third number: \"))\r\n",
        "if(num1 > num2) and (num1 > num3):\r\n",
        "  largest=num1\r\n",
        "elif(num2 > num1) and (num2 > num3):\r\n",
        "  largest=num2\r\n",
        "else:\r\n",
        "  largest=num3\r\n",
        "print(\"the largest number is\" ,largest)"
      ],
      "execution_count": null,
      "outputs": [
        {
          "output_type": "stream",
          "text": [
            "enter first number: 22\n",
            "enter second number: 23\n",
            "enter third number: 12\n",
            "the largest number is 23\n"
          ],
          "name": "stdout"
        }
      ]
    },
    {
      "cell_type": "code",
      "metadata": {
        "colab": {
          "base_uri": "https://localhost:8080/"
        },
        "id": "1YkFFx7NFB1Y",
        "outputId": "03fb042a-fa5a-4ca8-9c8f-288b13305df4"
      },
      "source": [
        "f=input(\"enter any filename : \")\r\n",
        "x=f.split(\".\")\r\n",
        "print(\"extension of file is\",x[-1])"
      ],
      "execution_count": 8,
      "outputs": [
        {
          "output_type": "stream",
          "text": [
            "enter any filename : first.html\n",
            "extension of file is html\n"
          ],
          "name": "stdout"
        }
      ]
    },
    {
      "cell_type": "code",
      "metadata": {
        "colab": {
          "base_uri": "https://localhost:8080/"
        },
        "id": "ay_JmWrkalV3",
        "outputId": "121fb46b-1169-4918-b3b3-0377e83fe2d4"
      },
      "source": [
        "c=[]\r\n",
        "x=int(input(\"enter limit for list : \"))\r\n",
        "for i in range(1,x+1):\r\n",
        "  a=input()\r\n",
        "  c.append(a)\r\n",
        "print(c)\r\n",
        "print(c[0],c[-1])"
      ],
      "execution_count": 9,
      "outputs": [
        {
          "output_type": "stream",
          "text": [
            "enter limit for list : 4\n",
            "blue\n",
            "pink\n",
            "green\n",
            "red\n",
            "['blue', 'pink', 'green', 'red']\n",
            "blue red\n"
          ],
          "name": "stdout"
        }
      ]
    },
    {
      "cell_type": "code",
      "metadata": {
        "colab": {
          "base_uri": "https://localhost:8080/"
        },
        "id": "hgn6FiZdYp9u",
        "outputId": "2d5930c7-073d-4f15-c364-c9ea95012843"
      },
      "source": [
        "a=int(input(\"enter any integer : \"))\r\n",
        "n1=int(\"%s\" %a)\r\n",
        "n2=int(\"%s%s\" %(a,a))\r\n",
        "n3=int(\"%s%s%s\" %(a,a,a))\r\n",
        "print(\"value of n+nn+nnn is : \",n1+n2+n3)"
      ],
      "execution_count": 10,
      "outputs": [
        {
          "output_type": "stream",
          "text": [
            "enter any integer : 3\n",
            "value of n+nn+nnn is :  369\n"
          ],
          "name": "stdout"
        }
      ]
    },
    {
      "cell_type": "code",
      "metadata": {
        "colab": {
          "base_uri": "https://localhost:8080/"
        },
        "id": "FZNwNYa1OXCy",
        "outputId": "90669a5f-794c-4ab3-cc08-95506e0b0a13"
      },
      "source": [
        "c1=[]\r\n",
        "x=int(input(\"enter limit for list1 :\"))\r\n",
        "for i in range(1,x+1):\r\n",
        "  a=input()\r\n",
        "  c1.append(a)\r\n",
        "  p=set(c1)\r\n",
        "print(p)\r\n",
        "c2=[]\r\n",
        "y=int(input(\"enter limit for list2 : \"))\r\n",
        "for i in range(1,y+1):\r\n",
        "  b=input()\r\n",
        "  c2.append(b)\r\n",
        "  q=set(c2)\r\n",
        "print(q)\r\n",
        "print(p.difference(q))"
      ],
      "execution_count": 11,
      "outputs": [
        {
          "output_type": "stream",
          "text": [
            "enter limit for list1 :3\n",
            "red\n",
            "yellow\n",
            "pink\n",
            "{'red', 'pink', 'yellow'}\n",
            "enter limit for list2 : 3\n",
            "violet\n",
            "red\n",
            "blue\n",
            "{'violet', 'red', 'blue'}\n",
            "{'pink', 'yellow'}\n"
          ],
          "name": "stdout"
        }
      ]
    },
    {
      "cell_type": "code",
      "metadata": {
        "colab": {
          "base_uri": "https://localhost:8080/"
        },
        "id": "kEUml1xm8GEz",
        "outputId": "0fa61937-cd03-42d1-d1a5-ee02beb82ac7"
      },
      "source": [
        "x=input(\"enter the first string : \")\r\n",
        "y=input(\"enter the second string : \")\r\n",
        "def swapch(x,y): \r\n",
        "  a = y[:1] + x[1:]\r\n",
        "  b = x[:1] + y[1:]\r\n",
        "  return a + ' ' + b\r\n",
        "print(swapch(x,y))"
      ],
      "execution_count": 12,
      "outputs": [
        {
          "output_type": "stream",
          "text": [
            "enter the first string : flop\n",
            "enter the second string : drop\n",
            "dlop frop\n"
          ],
          "name": "stdout"
        }
      ]
    },
    {
      "cell_type": "code",
      "metadata": {
        "colab": {
          "base_uri": "https://localhost:8080/"
        },
        "id": "r9pwhqPKF_in",
        "outputId": "15373685-8af9-46ec-98f1-6f587ee29d56"
      },
      "source": [
        "import operator\r\n",
        "d = {1:2, 3:4, 4:3, 2:1, 0:0}\r\n",
        "print('original dictionary : ',d)\r\n",
        "sorted_d = sorted(d.items(), key=operator.itemgetter(1))\r\n",
        "print('dictionary in ascending order by value : ',sorted_d)\r\n",
        "sorted_d = dict( sorted(d.items(), key=operator.itemgetter(1),reverse=True))\r\n",
        "print('dictionary in descending order by value : ',sorted_d)"
      ],
      "execution_count": null,
      "outputs": [
        {
          "output_type": "stream",
          "text": [
            "original dictionary :  {1: 2, 3: 4, 4: 3, 2: 1, 0: 0}\n",
            "dictionary in ascending order by value :  [(0, 0), (2, 1), (1, 2), (4, 3), (3, 4)]\n",
            "dictionary in descending order by value :  {3: 4, 4: 3, 1: 2, 2: 1, 0: 0}\n"
          ],
          "name": "stdout"
        }
      ]
    },
    {
      "cell_type": "code",
      "metadata": {
        "colab": {
          "base_uri": "https://localhost:8080/"
        },
        "id": "rxSTt0whHcTl",
        "outputId": "27ff2b76-9569-41ce-879d-9e2b8c06d48c"
      },
      "source": [
        "def Merge(dict1,dict2):\r\n",
        "  return (dict2.update(dict1))\r\n",
        "dict1={'a':10,'b':8}\r\n",
        "dict2={'d':6,'c':4}\r\n",
        "print(Merge(dict1 , dict2))\r\n",
        "print(dict2)"
      ],
      "execution_count": null,
      "outputs": [
        {
          "output_type": "stream",
          "text": [
            "None\n",
            "{'d': 6, 'c': 4, 'a': 10, 'b': 8}\n"
          ],
          "name": "stdout"
        }
      ]
    },
    {
      "cell_type": "code",
      "metadata": {
        "colab": {
          "base_uri": "https://localhost:8080/"
        },
        "id": "i7HrnabSIEAV",
        "outputId": "c0726d4a-ab0b-4e12-f782-37a747766897"
      },
      "source": [
        "num1=int(input(\"enter first number: \"))\r\n",
        "num2=int(input(\"enter second number: \"))\r\n",
        "i=1\r\n",
        "while(i <=num1 and i <=num2):\r\n",
        "  if(num1 % i==0 and num2 %i==0):\r\n",
        "    gcd=i\r\n",
        "  i=i+1\r\n",
        "print(\"GCD is\",gcd)"
      ],
      "execution_count": null,
      "outputs": [
        {
          "output_type": "stream",
          "text": [
            "enter first number: 5\n",
            "enter second number: 15\n",
            "GCD is 5\n"
          ],
          "name": "stdout"
        }
      ]
    },
    {
      "cell_type": "code",
      "metadata": {
        "colab": {
          "base_uri": "https://localhost:8080/"
        },
        "id": "QutEv3NDIsv-",
        "outputId": "ab3c9c28-0e58-4a94-e426-70fbc3fa602c"
      },
      "source": [
        "list=[10,65,22,31,54,67]\r\n",
        "print(\"original list: \")\r\n",
        "print(list)\r\n",
        "for i in list:\r\n",
        "   if(i % 2 ==0):\r\n",
        "     list.remove(i)\r\n",
        "print(\"list after removing even numbers: \")\r\n",
        "print(list)"
      ],
      "execution_count": null,
      "outputs": [
        {
          "output_type": "stream",
          "text": [
            "original list: \n",
            "[10, 65, 22, 31, 54, 67]\n",
            "list after removing even numbers: \n",
            "[65, 31, 67]\n"
          ],
          "name": "stdout"
        }
      ]
    }
  ]
}