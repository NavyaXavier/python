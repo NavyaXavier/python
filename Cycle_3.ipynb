{
  "nbformat": 4,
  "nbformat_minor": 0,
  "metadata": {
    "colab": {
      "name": "Cycle 3.ipynb",
      "provenance": [],
      "collapsed_sections": []
    },
    "kernelspec": {
      "name": "python3",
      "display_name": "Python 3"
    }
  },
  "cells": [
    {
      "cell_type": "code",
      "metadata": {
        "colab": {
          "base_uri": "https://localhost:8080/"
        },
        "id": "SOkocDzkNrsd",
        "outputId": "3c14fe4f-1422-4d6e-9491-541a932351ab"
      },
      "source": [
        "#1) Program to find the factorial of a number in python.\r\n",
        "\r\n",
        "n=int(input(\"enter any number : \"))\r\n",
        "fact=1\r\n",
        "i=1\r\n",
        "while i<=n:\r\n",
        "\tfact=fact*i\r\n",
        "\ti=i+1\r\n",
        "print(\"factorial of\",n,\"is\",fact)"
      ],
      "execution_count": null,
      "outputs": [
        {
          "output_type": "stream",
          "text": [
            "enter any number : 4\n",
            "factorial of 4 is 24\n"
          ],
          "name": "stdout"
        }
      ]
    },
    {
      "cell_type": "code",
      "metadata": {
        "id": "gZBlaXRsRkCA",
        "colab": {
          "base_uri": "https://localhost:8080/"
        },
        "outputId": "90919f35-97f1-49fa-804a-6445a45622c7"
      },
      "source": [
        "#2) Generate Fibonacci series of N terms.\r\n",
        "\r\n",
        "n=int(input(\"enter the value of n : \"))\r\n",
        "a=0\r\n",
        "b=1\r\n",
        "sum=0\r\n",
        "count=1\r\n",
        "print(\"fibonacci series : \")\r\n",
        "while (count<=n):\r\n",
        "  print(sum,end=\" \")\r\n",
        "  count+=1\r\n",
        "  a=b\r\n",
        "  b=sum\r\n",
        "  sum=a+b"
      ],
      "execution_count": null,
      "outputs": [
        {
          "output_type": "stream",
          "text": [
            "enter the value of n : 5\n",
            "fibonacci series : \n",
            "0 1 1 2 3 "
          ],
          "name": "stdout"
        }
      ]
    },
    {
      "cell_type": "code",
      "metadata": {
        "colab": {
          "base_uri": "https://localhost:8080/"
        },
        "id": "OnBKDcsB3zhE",
        "outputId": "5cb287b4-8d67-430b-8fac-2862e1582c3d"
      },
      "source": [
        "NumList=[]\r\n",
        "Number= int(input(\"please enter the total number of elements: \"))\r\n",
        "for i in range(1,Number + 1):\r\n",
        "  value=int(input(\"please enter the value of %d element : \" %i))\r\n",
        "  NumList.append(value)\r\n",
        "total=sum(NumList)\r\n",
        "print(\"\\n the sum of all elements in this list is : \",total)"
      ],
      "execution_count": 1,
      "outputs": [
        {
          "output_type": "stream",
          "text": [
            "please enter the total number of elements: 5\n",
            "please enter the value of 1 element : 1\n",
            "please enter the value of 2 element : 2\n",
            "please enter the value of 3 element : 3\n",
            "please enter the value of 4 element : 4\n",
            "please enter the value of 5 element : 5\n",
            "\n",
            " the sum of all elements in this list is :  15\n"
          ],
          "name": "stdout"
        }
      ]
    },
    {
      "cell_type": "code",
      "metadata": {
        "colab": {
          "base_uri": "https://localhost:8080/"
        },
        "id": "DV1A_UUrWaoD",
        "outputId": "24b4e035-0cde-4902-8f9d-7404f8ba892f"
      },
      "source": [
        "#4) Generate a list of four digit numbers in a given range with all their digits even and the number is a perfect square.\r\n",
        "\r\n",
        "for i in range(1000,10000):\r\n",
        "  for j in range(32,100):\r\n",
        "    if i==j*j:\r\n",
        "      a=str(i)\r\n",
        "      if (int(a[0])%2==0 and int(a[1])%2==0 and int(a[2])%2==0 and int(a[3])%2==0):\r\n",
        "        print(i)"
      ],
      "execution_count": null,
      "outputs": [
        {
          "output_type": "stream",
          "text": [
            "4624\n",
            "6084\n",
            "6400\n",
            "8464\n"
          ],
          "name": "stdout"
        }
      ]
    },
    {
      "cell_type": "code",
      "metadata": {
        "colab": {
          "base_uri": "https://localhost:8080/"
        },
        "id": "IUZOy5GJO4Id",
        "outputId": "d02b93e7-0753-4bce-c7f5-08d26cb90b4e"
      },
      "source": [
        "#5) Display the given pyramid with step number accepted from user. Eg: N=4 \r\n",
        "\r\n",
        "def py(n):\r\n",
        "  x=1\r\n",
        "  for i in range(1, n+1):\r\n",
        "    for j in range(1, i+1):\r\n",
        "      print(x, end=\" \")\r\n",
        "      x=x+i\r\n",
        "    x=i+1\r\n",
        "    print(\"\\r\")\r\n",
        " \r\n",
        "n=int(input(\"enter the limit : \"))\r\n",
        "py(n)"
      ],
      "execution_count": null,
      "outputs": [
        {
          "output_type": "stream",
          "text": [
            "enter the limit : 4\n",
            "1 \n",
            "2 4 \n",
            "3 6 9 \n",
            "4 8 12 16 \n"
          ],
          "name": "stdout"
        }
      ]
    },
    {
      "cell_type": "code",
      "metadata": {
        "colab": {
          "base_uri": "https://localhost:8080/"
        },
        "id": "Xs9jJkcb8I5c",
        "outputId": "b82ef386-5e7a-4864-a50e-00f2f2f8fc0b"
      },
      "source": [
        "#6) Count the number of characters (character frequency) in a string. \r\n",
        "\r\n",
        "def freq(s):\r\n",
        "  s=s.lower()\r\n",
        "  dict={}\r\n",
        "  for ch in s :\r\n",
        "    keys = dict.keys()\r\n",
        "    if ch in keys :\r\n",
        "      dict[ch]+=1\r\n",
        "    else:\r\n",
        "      dict[ch]=1\r\n",
        "  return dict\r\n",
        "s=input(\"enter any string : \")\r\n",
        "print(\"the character frequency of the given string\",s,\"are :\")\r\n",
        "print(freq(s))"
      ],
      "execution_count": null,
      "outputs": [
        {
          "output_type": "stream",
          "text": [
            "enter any string : successfully\n",
            "the character frequency of the given string successfully are :\n",
            "{'s': 3, 'u': 2, 'c': 2, 'e': 1, 'f': 1, 'l': 2, 'y': 1}\n"
          ],
          "name": "stdout"
        }
      ]
    },
    {
      "cell_type": "code",
      "metadata": {
        "colab": {
          "base_uri": "https://localhost:8080/"
        },
        "id": "wHmOkIaqG2VB",
        "outputId": "54c58460-331b-4d6a-f929-d5feb0449c4e"
      },
      "source": [
        "#7) Add ‘ing’ at the end of a given string. If it already ends with ‘ing’, then add ‘ly’.\r\n",
        "\r\n",
        "s=input(\"enter any string : \")\r\n",
        "if s.endswith(\"ing\") :\r\n",
        "  s+=\"ly\"\r\n",
        "else :\r\n",
        "  s+=\"ing\"\r\n",
        "print(\"modified string : \",s)"
      ],
      "execution_count": null,
      "outputs": [
        {
          "output_type": "stream",
          "text": [
            "enter any string : amazing\n",
            "modified string :  amazingly\n"
          ],
          "name": "stdout"
        }
      ]
    },
    {
      "cell_type": "code",
      "metadata": {
        "colab": {
          "base_uri": "https://localhost:8080/"
        },
        "id": "2Fm0RNMSpb5m",
        "outputId": "f4932d9f-67c4-43b8-c42d-f9338ef3c6b3"
      },
      "source": [
        "#8) Accept a list of words and return length of longest word. \r\n",
        "\r\n",
        "l=[]\r\n",
        "n= int(input(\"enter the number of elements in list : \"))\r\n",
        "for i in range(1,n+1):\r\n",
        "    x=input()\r\n",
        "    l.append(x)\r\n",
        "max=len(l[0])\r\n",
        "temp=l[0]\r\n",
        "for j in l:\r\n",
        "    if(len(j)>max):\r\n",
        "       max=len(j)\r\n",
        "       temp=j\r\n",
        "print(\"the word with the longest length is :\",temp)"
      ],
      "execution_count": null,
      "outputs": [
        {
          "output_type": "stream",
          "text": [
            "enter the number of elements in list : 4\n",
            "appu\n",
            "ammu\n",
            "navya\n",
            "namitha\n",
            "the word with the longest length is : namitha\n"
          ],
          "name": "stdout"
        }
      ]
    },
    {
      "cell_type": "code",
      "metadata": {
        "colab": {
          "base_uri": "https://localhost:8080/"
        },
        "id": "Cjo1yggTkD1b",
        "outputId": "11048eab-629c-40d5-9e9a-bb5423e35d5d"
      },
      "source": [
        "#9) Construct following pattern using nested loop :\r\n",
        "* \r\n",
        "* * \r\n",
        "* * * \r\n",
        "* * * * \r\n",
        "* * * * * \r\n",
        "* * * * \r\n",
        "* * * \r\n",
        "* * \r\n",
        "* \r\n",
        "\r\n",
        "for i in range(5):\r\n",
        "  for j in range(i+1):\r\n",
        "    print(\"* \",end=\"\")\r\n",
        "  print()\r\n",
        "for i in range(4):\r\n",
        "  for j in range(i, 4):\r\n",
        "    print(\"* \",end=\"\")\r\n",
        "  print()"
      ],
      "execution_count": null,
      "outputs": [
        {
          "output_type": "stream",
          "text": [
            "* \n",
            "* * \n",
            "* * * \n",
            "* * * * \n",
            "* * * * * \n",
            "* * * * \n",
            "* * * \n",
            "* * \n",
            "* \n"
          ],
          "name": "stdout"
        }
      ]
    },
    {
      "cell_type": "code",
      "metadata": {
        "colab": {
          "base_uri": "https://localhost:8080/"
        },
        "id": "RmpIB-21Ug9G",
        "outputId": "01c4e3a4-f7d9-4d4d-9dbb-742e54e58537"
      },
      "source": [
        "#10) Generate all factors of a number. \r\n",
        "\r\n",
        "n=int(input(\"enter any number : \"))\r\n",
        "i=1\r\n",
        "print(\"all factors of\",n,\"are :\")\r\n",
        "while i<=n:\r\n",
        "  if n%i==0:\r\n",
        "    print(i)\r\n",
        "  i=i+1"
      ],
      "execution_count": null,
      "outputs": [
        {
          "output_type": "stream",
          "text": [
            "enter any number : 12\n",
            "all factors of 12 are :\n",
            "1\n",
            "2\n",
            "3\n",
            "4\n",
            "6\n",
            "12\n"
          ],
          "name": "stdout"
        }
      ]
    },
    {
      "cell_type": "code",
      "metadata": {
        "id": "B44oS_OcPD7P",
        "colab": {
          "base_uri": "https://localhost:8080/"
        },
        "outputId": "aa0e70be-2d04-4d9d-bd0c-aa6e96b0998f"
      },
      "source": [
        " #11) Write lambda functions to find area of square, rectangle and triangle.\r\n",
        "\r\n",
        "a=int(input(\"enter the side of square : \"))\r\n",
        "sq_area=lambda a:a**2\r\n",
        "print(\"area of the square is : \",sq_area(a))\r\n",
        "l=int(input(\"enter length : \"))\r\n",
        "w=int(input(\"enter width : \"))\r\n",
        "rect_area=lambda l,w : l*w\r\n",
        "print(\"area of the rectangle is : \",rect_area(l,w))\r\n",
        "a=int(input(\"enter the value of first side : \"))\r\n",
        "b=int(input(\"enter the value of second side : \"))\r\n",
        "c=int(input(\"enter the value of third side : \"))\r\n",
        "s=(a+b+c)/2\r\n",
        "t_area=lambda s,a,b,c : (s*(s-a)*(s-b)*(s-c))**0.5\r\n",
        "print(\"area of triangle :\",t_area(s,a,b,c))"
      ],
      "execution_count": null,
      "outputs": [
        {
          "output_type": "stream",
          "text": [
            "enter the side of square : 3\n",
            "area of the square is :  9\n",
            "enter length : 4\n",
            "enter width : 3\n",
            "area of the rectangle is :  12\n",
            "enter the value of first side : 5\n",
            "enter the value of second side : 4\n",
            "enter the value of third side : 2\n",
            "area of triangle : 3.799671038392666\n"
          ],
          "name": "stdout"
        }
      ]
    }
  ]
}